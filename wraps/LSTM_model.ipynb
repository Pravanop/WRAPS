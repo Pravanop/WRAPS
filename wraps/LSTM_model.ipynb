{
 "cells": [
  {
   "cell_type": "code",
   "execution_count": 1,
   "metadata": {},
   "outputs": [
    {
     "data": {
      "text/html": [
       "<div>\n",
       "<style scoped>\n",
       "    .dataframe tbody tr th:only-of-type {\n",
       "        vertical-align: middle;\n",
       "    }\n",
       "\n",
       "    .dataframe tbody tr th {\n",
       "        vertical-align: top;\n",
       "    }\n",
       "\n",
       "    .dataframe thead th {\n",
       "        text-align: right;\n",
       "    }\n",
       "</style>\n",
       "<table border=\"1\" class=\"dataframe\">\n",
       "  <thead>\n",
       "    <tr style=\"text-align: right;\">\n",
       "      <th></th>\n",
       "      <th>Unnamed: 0</th>\n",
       "      <th>RainToday</th>\n",
       "      <th>RainTomorrow</th>\n",
       "      <th>Pressure</th>\n",
       "      <th>Humidity</th>\n",
       "      <th>Temp</th>\n",
       "      <th>WindVelocity</th>\n",
       "      <th>Brightness</th>\n",
       "    </tr>\n",
       "  </thead>\n",
       "  <tbody>\n",
       "    <tr>\n",
       "      <th>0</th>\n",
       "      <td>0</td>\n",
       "      <td>0.0</td>\n",
       "      <td>0</td>\n",
       "      <td>1007.40</td>\n",
       "      <td>46.5</td>\n",
       "      <td>19.35</td>\n",
       "      <td>66.0</td>\n",
       "      <td>1.702504</td>\n",
       "    </tr>\n",
       "    <tr>\n",
       "      <th>1</th>\n",
       "      <td>1</td>\n",
       "      <td>0.0</td>\n",
       "      <td>0</td>\n",
       "      <td>1009.20</td>\n",
       "      <td>34.5</td>\n",
       "      <td>20.75</td>\n",
       "      <td>57.0</td>\n",
       "      <td>1.702504</td>\n",
       "    </tr>\n",
       "    <tr>\n",
       "      <th>2</th>\n",
       "      <td>2</td>\n",
       "      <td>0.0</td>\n",
       "      <td>0</td>\n",
       "      <td>1008.15</td>\n",
       "      <td>34.0</td>\n",
       "      <td>22.10</td>\n",
       "      <td>68.5</td>\n",
       "      <td>1.702504</td>\n",
       "    </tr>\n",
       "    <tr>\n",
       "      <th>3</th>\n",
       "      <td>3</td>\n",
       "      <td>0.0</td>\n",
       "      <td>0</td>\n",
       "      <td>1015.20</td>\n",
       "      <td>30.5</td>\n",
       "      <td>22.30</td>\n",
       "      <td>34.0</td>\n",
       "      <td>1.702504</td>\n",
       "    </tr>\n",
       "    <tr>\n",
       "      <th>4</th>\n",
       "      <td>4</td>\n",
       "      <td>0.0</td>\n",
       "      <td>0</td>\n",
       "      <td>1008.40</td>\n",
       "      <td>57.5</td>\n",
       "      <td>23.75</td>\n",
       "      <td>54.5</td>\n",
       "      <td>1.016647</td>\n",
       "    </tr>\n",
       "  </tbody>\n",
       "</table>\n",
       "</div>"
      ],
      "text/plain": [
       "   Unnamed: 0  RainToday  RainTomorrow  Pressure  Humidity   Temp  \\\n",
       "0           0        0.0             0   1007.40      46.5  19.35   \n",
       "1           1        0.0             0   1009.20      34.5  20.75   \n",
       "2           2        0.0             0   1008.15      34.0  22.10   \n",
       "3           3        0.0             0   1015.20      30.5  22.30   \n",
       "4           4        0.0             0   1008.40      57.5  23.75   \n",
       "\n",
       "   WindVelocity  Brightness  \n",
       "0          66.0    1.702504  \n",
       "1          57.0    1.702504  \n",
       "2          68.5    1.702504  \n",
       "3          34.0    1.702504  \n",
       "4          54.5    1.016647  "
      ]
     },
     "execution_count": 1,
     "metadata": {},
     "output_type": "execute_result"
    }
   ],
   "source": [
    "import pandas\n",
    "import matplotlib.pyplot as plt\n",
    "dataset = pandas.read_csv('Rain_data_manipulated.csv', engine='python')\n",
    "dataset.head()"
   ]
  },
  {
   "cell_type": "code",
   "execution_count": 2,
   "metadata": {},
   "outputs": [
    {
     "name": "stderr",
     "output_type": "stream",
     "text": [
      "Using TensorFlow backend.\n"
     ]
    }
   ],
   "source": [
    "from keras.models import Sequential\n",
    "from keras.layers import Dense\n",
    "from keras.layers import LSTM\n",
    "import numpy as np"
   ]
  },
  {
   "cell_type": "code",
   "execution_count": 3,
   "metadata": {},
   "outputs": [],
   "source": [
    "Labels=np.array(dataset['RainTomorrow'])"
   ]
  },
  {
   "cell_type": "code",
   "execution_count": 4,
   "metadata": {},
   "outputs": [],
   "source": [
    "Samples=np.array(dataset[['RainToday','Pressure','Humidity','Temp','WindVelocity','Brightness']])"
   ]
  },
  {
   "cell_type": "code",
   "execution_count": 5,
   "metadata": {},
   "outputs": [
    {
     "name": "stderr",
     "output_type": "stream",
     "text": [
      "C:\\Users\\Om\\Anaconda3\\envs\\opencv\\lib\\site-packages\\ipykernel_launcher.py:9: RuntimeWarning: invalid value encountered in double_scalars\n",
      "  if __name__ == '__main__':\n"
     ]
    }
   ],
   "source": [
    "#*************************Do normalization on samples. Only Non-discrete columns.*************************************\n",
    "Samples_normalized=[]\n",
    "for j in range(6):\n",
    "    arr=Samples[:,j]\n",
    "    maxelement=np.amax(arr)\n",
    "    minelement=np.amin(arr)\n",
    "    mean=np.mean(arr)\n",
    "    for i in range(len(arr)):\n",
    "        arr[i]=abs(arr[i]-mean)/(maxelement-minelement)\n",
    "    if j==0:\n",
    "        Samples_normalized=arr\n",
    "    else:\n",
    "        Samples_normalized=np.concatenate((Samples_normalized,arr))"
   ]
  },
  {
   "cell_type": "code",
   "execution_count": 12,
   "metadata": {},
   "outputs": [
    {
     "data": {
      "text/plain": [
       "(142193, 1, 6)"
      ]
     },
     "execution_count": 12,
     "metadata": {},
     "output_type": "execute_result"
    }
   ],
   "source": [
    "Samples_normalized.shape"
   ]
  },
  {
   "cell_type": "code",
   "execution_count": 6,
   "metadata": {},
   "outputs": [],
   "source": [
    "Samples_normalized=Samples_normalized.reshape(Samples.shape[0],1,Samples.shape[1])"
   ]
  },
  {
   "cell_type": "code",
   "execution_count": 7,
   "metadata": {},
   "outputs": [],
   "source": [
    "import numpy as np\n",
    "from keras.layers import LSTM\n",
    "from keras.models import Sequential, Model\n",
    "from keras.layers import Input, Dense, Flatten, Dropout, Activation, Lambda, Permute, Reshape\n",
    "import json\n",
    "import scipy\n",
    "from keras.callbacks import Callback, ModelCheckpoint\n",
    "from sklearn.model_selection import train_test_split\n",
    "from sklearn.metrics import cohen_kappa_score, accuracy_score\n",
    "from sklearn.metrics import confusion_matrix\n",
    "import tensorflow as tf"
   ]
  },
  {
   "cell_type": "code",
   "execution_count": 8,
   "metadata": {},
   "outputs": [],
   "source": [
    "def weather_predictor(X_train,Y_train,hparam):\n",
    "    \n",
    "    model = Sequential()\n",
    "\n",
    "    input_shape=(X_train.shape[1],X_train.shape[2])\n",
    "\n",
    "    model.add(LSTM(units=30,return_sequences=True,input_shape=input_shape))\n",
    "    model.add(Dropout(0.2))\n",
    "\n",
    "    model.add(LSTM(units=30))\n",
    "    model.add(Dropout(0.2))\n",
    "    model.add(Dense(units=20))\n",
    "    model.add(Dense(units=10))\n",
    "    model.add(Dense(units=4))\n",
    "    model.add(Dense(units=1, activation='sigmoid'))\n",
    "    model.compile(optimizer='adam', loss=\"binary_crossentropy\",metrics=['accuracy'])\n",
    "    trainer=model.fit(X_train, Y_train, epochs=hparam.epoch,batch_size=hparam.batch,validation_split=hparam.eval_split)\n",
    "    \n",
    "    plt.plot(trainer.history['accuracy'])\n",
    "    plt.plot(trainer.history['val_accuracy'])\n",
    "    plt.title('Model accuracy')\n",
    "    plt.ylabel('Accuracy')\n",
    "    plt.xlabel('Epoch')\n",
    "    plt.legend(['Train', 'val'], loc='upper left')\n",
    "    plt.show()\n",
    "    plt.plot(trainer.history['loss'])\n",
    "    plt.plot(trainer.history['val_loss'])\n",
    "    plt.title('Model loss')\n",
    "    plt.ylabel('Loss')\n",
    "    plt.xlabel('Epoch')\n",
    "    plt.legend(['Train', 'val'], loc='upper left')\n",
    "    plt.show()\n",
    "\n",
    "    return model"
   ]
  },
  {
   "cell_type": "code",
   "execution_count": 13,
   "metadata": {},
   "outputs": [],
   "source": [
    "X_train,X_test,Y_train,Y_test=train_test_split(Samples_normalized,Labels,test_size=0.2,random_state=42)"
   ]
  },
  {
   "cell_type": "code",
   "execution_count": 14,
   "metadata": {},
   "outputs": [],
   "source": [
    "class hparam_config():\n",
    "      def __init__(self, epoch,batch,eval_split):\n",
    "        self.epoch=epoch\n",
    "        self.batch=batch\n",
    "        self.eval_split=eval_split\n",
    "\n",
    "param_list=hparam_config(epoch=10,batch=100,eval_split=0.2)"
   ]
  },
  {
   "cell_type": "code",
   "execution_count": null,
   "metadata": {},
   "outputs": [
    {
     "name": "stdout",
     "output_type": "stream",
     "text": [
      "Train on 91003 samples, validate on 22751 samples\n",
      "Epoch 1/10\n",
      "91003/91003 [==============================] - 18s 202us/step - loss: nan - accuracy: 3.1867e-04 - val_loss: nan - val_accuracy: 0.0000e+00\n",
      "Epoch 2/10\n",
      "30000/91003 [========>.....................] - ETA: 8s - loss: nan - accuracy: 0.0000e+00"
     ]
    }
   ],
   "source": [
    "wraps=weather_predictor(X_train,Y_train,param_list)"
   ]
  },
  {
   "cell_type": "code",
   "execution_count": null,
   "metadata": {},
   "outputs": [],
   "source": [
    "Y_predproba=wraps.predict(X_test,Y_test)"
   ]
  },
  {
   "cell_type": "code",
   "execution_count": null,
   "metadata": {},
   "outputs": [],
   "source": [
    "from sklearn.metrics import roc_curve\n",
    "from sklearn.metrics import roc_auc_score"
   ]
  },
  {
   "cell_type": "code",
   "execution_count": null,
   "metadata": {},
   "outputs": [],
   "source": [
    "lr_auc = roc_auc_score(y_test_final,Y_predproba)\n",
    "print(lr_auc)\n",
    "lr_fpr, lr_tpr, _ = roc_curve(Y_test, Y_predproba)\n",
    "plt.plot(lr_fpr, lr_tpr, marker='.', label='Wraps')\n",
    "plt.xlabel('False Positive Rate')\n",
    "plt.ylabel('True Positive Rate')\n",
    "plt.show()"
   ]
  },
  {
   "cell_type": "code",
   "execution_count": null,
   "metadata": {},
   "outputs": [],
   "source": [
    "from sklearn.metrics import accuracy_score\n",
    "Y_pred=Y_predproba>0.5\n",
    "accuracy_score(Y_test,Y_pred)"
   ]
  },
  {
   "cell_type": "code",
   "execution_count": null,
   "metadata": {},
   "outputs": [],
   "source": [
    "import scikitplot as skplt\n",
    "skplt.metrics.plot_confusion_matrix(\n",
    "    Y_test, \n",
    "    Y_pred,\n",
    "    figsize=(12,12))"
   ]
  },
  {
   "cell_type": "code",
   "execution_count": null,
   "metadata": {},
   "outputs": [],
   "source": [
    "from keras.models import save_model\n",
    "wraps.save('Wraps_LSTM_predictor.h5')  #*****************Run this cell only for improved models."
   ]
  }
 ],
 "metadata": {
  "kernelspec": {
   "display_name": "Python 3",
   "language": "python",
   "name": "python3"
  },
  "language_info": {
   "codemirror_mode": {
    "name": "ipython",
    "version": 3
   },
   "file_extension": ".py",
   "mimetype": "text/x-python",
   "name": "python",
   "nbconvert_exporter": "python",
   "pygments_lexer": "ipython3",
   "version": "3.7.6"
  }
 },
 "nbformat": 4,
 "nbformat_minor": 4
}
